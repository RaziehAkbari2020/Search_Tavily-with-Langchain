{
  "nbformat": 4,
  "nbformat_minor": 0,
  "metadata": {
    "colab": {
      "provenance": [],
      "gpuType": "T4",
      "authorship_tag": "ABX9TyOoN1+2z2fhKRsAszaX3nEy",
      "include_colab_link": true
    },
    "kernelspec": {
      "name": "python3",
      "display_name": "Python 3"
    },
    "language_info": {
      "name": "python"
    },
    "accelerator": "GPU"
  },
  "cells": [
    {
      "cell_type": "markdown",
      "metadata": {
        "id": "view-in-github",
        "colab_type": "text"
      },
      "source": [
        "<a href=\"https://colab.research.google.com/github/RaziehAkbari2020/Search_Tavily-with-Langchain/blob/main/tavily_and_Scraping.ipynb\" target=\"_parent\"><img src=\"https://colab.research.google.com/assets/colab-badge.svg\" alt=\"Open In Colab\"/></a>"
      ]
    },
    {
      "cell_type": "code",
      "source": [
        "!pip install tavily-python\n"
      ],
      "metadata": {
        "colab": {
          "base_uri": "https://localhost:8080/"
        },
        "id": "Q5DoxIdE6lXC",
        "outputId": "a04be003-c586-4f8c-ef61-6265914a22f2"
      },
      "execution_count": 1,
      "outputs": [
        {
          "output_type": "stream",
          "name": "stdout",
          "text": [
            "Collecting tavily-python\n",
            "  Downloading tavily_python-0.3.4-py3-none-any.whl (10 kB)\n",
            "Requirement already satisfied: requests in /usr/local/lib/python3.10/dist-packages (from tavily-python) (2.31.0)\n",
            "Collecting tiktoken>=0.5.1 (from tavily-python)\n",
            "  Downloading tiktoken-0.7.0-cp310-cp310-manylinux_2_17_x86_64.manylinux2014_x86_64.whl (1.1 MB)\n",
            "\u001b[2K     \u001b[90m━━━━━━━━━━━━━━━━━━━━━━━━━━━━━━━━━━━━━━━━\u001b[0m \u001b[32m1.1/1.1 MB\u001b[0m \u001b[31m6.6 MB/s\u001b[0m eta \u001b[36m0:00:00\u001b[0m\n",
            "\u001b[?25hCollecting httpx (from tavily-python)\n",
            "  Downloading httpx-0.27.0-py3-none-any.whl (75 kB)\n",
            "\u001b[2K     \u001b[90m━━━━━━━━━━━━━━━━━━━━━━━━━━━━━━━━━━━━━━━━\u001b[0m \u001b[32m75.6/75.6 kB\u001b[0m \u001b[31m8.1 MB/s\u001b[0m eta \u001b[36m0:00:00\u001b[0m\n",
            "\u001b[?25hRequirement already satisfied: regex>=2022.1.18 in /usr/local/lib/python3.10/dist-packages (from tiktoken>=0.5.1->tavily-python) (2024.5.15)\n",
            "Requirement already satisfied: charset-normalizer<4,>=2 in /usr/local/lib/python3.10/dist-packages (from requests->tavily-python) (3.3.2)\n",
            "Requirement already satisfied: idna<4,>=2.5 in /usr/local/lib/python3.10/dist-packages (from requests->tavily-python) (3.7)\n",
            "Requirement already satisfied: urllib3<3,>=1.21.1 in /usr/local/lib/python3.10/dist-packages (from requests->tavily-python) (2.0.7)\n",
            "Requirement already satisfied: certifi>=2017.4.17 in /usr/local/lib/python3.10/dist-packages (from requests->tavily-python) (2024.6.2)\n",
            "Requirement already satisfied: anyio in /usr/local/lib/python3.10/dist-packages (from httpx->tavily-python) (3.7.1)\n",
            "Collecting httpcore==1.* (from httpx->tavily-python)\n",
            "  Downloading httpcore-1.0.5-py3-none-any.whl (77 kB)\n",
            "\u001b[2K     \u001b[90m━━━━━━━━━━━━━━━━━━━━━━━━━━━━━━━━━━━━━━━━\u001b[0m \u001b[32m77.9/77.9 kB\u001b[0m \u001b[31m7.2 MB/s\u001b[0m eta \u001b[36m0:00:00\u001b[0m\n",
            "\u001b[?25hRequirement already satisfied: sniffio in /usr/local/lib/python3.10/dist-packages (from httpx->tavily-python) (1.3.1)\n",
            "Collecting h11<0.15,>=0.13 (from httpcore==1.*->httpx->tavily-python)\n",
            "  Downloading h11-0.14.0-py3-none-any.whl (58 kB)\n",
            "\u001b[2K     \u001b[90m━━━━━━━━━━━━━━━━━━━━━━━━━━━━━━━━━━━━━━━━\u001b[0m \u001b[32m58.3/58.3 kB\u001b[0m \u001b[31m5.4 MB/s\u001b[0m eta \u001b[36m0:00:00\u001b[0m\n",
            "\u001b[?25hRequirement already satisfied: exceptiongroup in /usr/local/lib/python3.10/dist-packages (from anyio->httpx->tavily-python) (1.2.1)\n",
            "Installing collected packages: h11, tiktoken, httpcore, httpx, tavily-python\n",
            "Successfully installed h11-0.14.0 httpcore-1.0.5 httpx-0.27.0 tavily-python-0.3.4 tiktoken-0.7.0\n"
          ]
        }
      ]
    },
    {
      "cell_type": "markdown",
      "source": [
        "1. Using Tavily and output is Links"
      ],
      "metadata": {
        "id": "HpLJ_qLztdCC"
      }
    },
    {
      "cell_type": "code",
      "source": [
        "# Initialize Tavily client\n",
        "from tavily import TavilyClient\n",
        "\n",
        "tavily = TavilyClient(api_key=\"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\")\n",
        "\n",
        "# Perform advanced search\n",
        "response = tavily.search(query=\"I want to apply for Search Master's degree in Applied Health Informatics & Digital Medicine at RWTH Aachen University in Germany, the deadline, Language requirements, the grade of language, GPA requirement?\", search_depth=\"advanced\", include_answer=True)\n",
        "\n",
        "#Extracting URL and content from the response\n",
        "context = [{\"url\": obj[\"url\"], \"content\": obj[\"content\"]} for obj in response[\"results\"]]\n",
        "\n",
        "\n"
      ],
      "metadata": {
        "id": "2ztO2Pzf6rSL"
      },
      "execution_count": 17,
      "outputs": []
    },
    {
      "cell_type": "code",
      "source": [
        "!pip install requests beautifulsoup4\n"
      ],
      "metadata": {
        "id": "94hGZ4Qfvr04",
        "outputId": "32fe4261-2f58-49ed-9909-6b3e859216a0",
        "colab": {
          "base_uri": "https://localhost:8080/"
        }
      },
      "execution_count": 18,
      "outputs": [
        {
          "output_type": "stream",
          "name": "stdout",
          "text": [
            "Requirement already satisfied: requests in /usr/local/lib/python3.10/dist-packages (2.31.0)\n",
            "Requirement already satisfied: beautifulsoup4 in /usr/local/lib/python3.10/dist-packages (4.12.3)\n",
            "Requirement already satisfied: charset-normalizer<4,>=2 in /usr/local/lib/python3.10/dist-packages (from requests) (3.3.2)\n",
            "Requirement already satisfied: idna<4,>=2.5 in /usr/local/lib/python3.10/dist-packages (from requests) (3.7)\n",
            "Requirement already satisfied: urllib3<3,>=1.21.1 in /usr/local/lib/python3.10/dist-packages (from requests) (2.0.7)\n",
            "Requirement already satisfied: certifi>=2017.4.17 in /usr/local/lib/python3.10/dist-packages (from requests) (2024.6.2)\n",
            "Requirement already satisfied: soupsieve>1.2 in /usr/local/lib/python3.10/dist-packages (from beautifulsoup4) (2.5)\n"
          ]
        }
      ]
    },
    {
      "cell_type": "code",
      "source": [
        "import requests\n",
        "from bs4 import BeautifulSoup\n",
        "\n",
        "def extract_content_from_url(url):\n",
        "    try:\n",
        "        response = requests.get(url)\n",
        "        response.raise_for_status()  # Raise HTTPError for bad responses\n",
        "        soup = BeautifulSoup(response.content, 'html.parser')\n",
        "        return soup.get_text(separator=' ', strip=True)  # Extract text content\n",
        "    except requests.exceptions.RequestException as e:\n",
        "        print(f\"Error fetching {url}: {e}\")\n",
        "        return None\n",
        "\n",
        "# Extract and print content for each URL\n",
        "for item in context:\n",
        "    url = item[\"url\"]\n",
        "    content = extract_content_from_url(url)\n",
        "    if content:\n",
        "        print(f\"Content from {url}:\\n{content[:1000]}...\\n\")  # Print first 1000 characters for brevity\n",
        "    else:\n",
        "        print(f\"Failed to extract content from {url}\")\n"
      ],
      "metadata": {
        "id": "QkcZYhugtotd",
        "outputId": "6d3e8219-15f9-46ee-b270-dc23dd3c2d51",
        "colab": {
          "base_uri": "https://localhost:8080/"
        }
      },
      "execution_count": 19,
      "outputs": [
        {
          "output_type": "stream",
          "name": "stdout",
          "text": [
            "Content from https://master-applied-health-informatics.com/:\n",
            "Home - Master of Applied Health Informatics (M.Sc.) Skip to content Home Content Career Prospects Program Structure Application Fees Scholarships FAQ Apply now! DE EN Home Content Career Prospects Program Structure Application Fees Scholarships FAQ Apply now! DE EN Home Content Career Prospects Program Structure Application Fees Scholarships FAQ Apply now! DE EN Loading... Apply now! Application Deadline Extended: August 31st! Home Corporate Marketing 2024-06-03T09:57:23+02:00 Master of Science (M. Sc.) in Applied Health Informatics and Digital Medicine Shape the future of digital medicine! The part-time degree program Applied Health Informatics and Digital Medicine aims to train experts in the field of medical informatics. Learn to acquire and evaluate medical data and make it usable for healthcare. Shape the digitalized processes in healthcare and open up a wide range of career opportunities in an interdisciplinary work environment. Download information brochure For privacy reasons Y...\n",
            "\n",
            "Error fetching https://www.rwth-aachen.de/cms/root/studium/vor-dem-studium/studiengaenge/liste-aktuelle-studiengaenge/studiengangbeschreibung/~bgiiib/applied-health-informatics-digital-med/: 404 Client Error: Not Found for url: https://www.rwth-aachen.de/cms/root/studium/vor-dem-studium/studiengaenge/liste-aktuelle-studiengaenge/studiengangbeschreibung/~bgiiib/applied-health-informatics-digital-med/\n",
            "Failed to extract content from https://www.rwth-aachen.de/cms/root/studium/vor-dem-studium/studiengaenge/liste-aktuelle-studiengaenge/studiengangbeschreibung/~bgiiib/applied-health-informatics-digital-med/\n",
            "Content from https://www2.daad.de/deutschland/studienangebote/online/en/detail/9198/:\n",
            "Skip to main content Services More information on daad.de More info CHE University Ranking DAAD database on admission requirements Applying Help and Advice 0 0 International Online Programmes in Germany 2023/2024 © pagination Home Back Previous Next Master of Science in Applied Health Informatics and Digital Medicine MSc in Applied Health Informatics & Digital Medicine RWTH Aachen University • Aachen Overview Course details Online learning Costs / Funding Requirements / Registration Services Degree Master of Science in Applied Health Informatics and Digital Medicine Teaching language English Languages All courses are held in English. Full-time / part-time part-time (study alongside work) Mode of study Hybrid Programme duration 4 semesters Beginning Winter semester Application deadline 15 July Tuition fees per semester in EUR 6,650 EUR Additional information on tuition fees The complete  tuition fees for all four semesters amounts to 26,600 EUR . Early booking discounts apply. Combined ...\n",
            "\n",
            "Content from https://www.academy.rwth-aachen.de/en/news/news-detail/new-part-time-degree-program-m-sc-applied-health-informatics-and-digital-medicine:\n",
            "New part-time degree program: M.Sc. Applied Health Informatics and Digital Medicine - RWTH International Academy deutsch english Keywords Search Skip navigation Home Programs Master's Degree Programs Short Courses Qualification Programs Certificate Courses & Trainings Talent Programs Companies Further Education Inhouse Programs Cooperations Services Digital Education Center Room Rental Event Management Scholarships Career Service Quality Assurance Academy Offices Latin America Office China Office India Office About Us RWTH International Academy RWTH Business School RWTH Aachen University Discover Aachen Career Team Contact News Event Calendar Academy News Get the latest news and updates on our innovative programs and services. Read more RWTH International Academy News New part-time degree program: M.Sc. Applied Health Informatics and Digital Medicine 21.09.2023 New part-time degree program: M.Sc. Applied Health Informatics and Digital Medicine Exciting news! We are pleased to announce ...\n",
            "\n",
            "Content from https://master-applied-health-informatics.com/faq/:\n",
            "FAQ - Master of Applied Health Informatics (M.Sc.) Skip to content Home Content Career Prospects Program Structure Application Fees Scholarships FAQ Apply now! DE EN Home Content Career Prospects Program Structure Application Fees Scholarships FAQ Apply now! DE EN Home Content Career Prospects Program Structure Application Fees Scholarships FAQ Apply now! DE EN FAQ Corporate Marketing 2024-05-23T15:42:08+02:00 FAQ Frequently Asked Questions How does the application process work? You can apply for a study place in M.Sc. Applied Health Informatics and Digital Medicine in RWTHonline within the application period (Dezember 01 until July 15). Please note that the application for a study place and the enrollment at the university are two different procedures. Once we receive your complete documents, they will be assessed by the scientific director of the course. If you are meeting the admission requirements, you can be enrolled at the university. By enrolling you get a study placement at RWT...\n",
            "\n"
          ]
        }
      ]
    },
    {
      "cell_type": "markdown",
      "source": [
        "2. Using Tavily with  Final Answer (Model 1)"
      ],
      "metadata": {
        "id": "IQxEf9-TuBRR"
      }
    },
    {
      "cell_type": "code",
      "source": [
        "# Initialize Tavily client\n",
        "from tavily import TavilyClient\n",
        "\n",
        "tavily = TavilyClient(api_key=\"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\")\n",
        "\n",
        "# Perform advanced search\n",
        "response = tavily.search(query=\"I want to apply for Search Master's degree in Applied Health Informatics & Digital Medicine at RWTH Aachen University in Germany, the deadline, Language requirements, the grade of language, GPA requirement?\", search_depth=\"advanced\", include_answer=True)\n",
        "\n",
        "# Extracting URL and content from the response\n",
        "##context = [{\"url\": obj[\"url\"], \"content\": obj[\"content\"]} for obj in response[\"results\"]]\n",
        "##print(context)\n",
        "\n",
        "response[\"answer\"]"
      ],
      "metadata": {
        "id": "tcXlHmiKuAbS",
        "outputId": "42d7ad81-b350-4f23-ed33-93c6f2a38047",
        "colab": {
          "base_uri": "https://localhost:8080/",
          "height": 52
        }
      },
      "execution_count": 15,
      "outputs": [
        {
          "output_type": "execute_result",
          "data": {
            "text/plain": [
              "\"The Master's degree in Applied Health Informatics & Digital Medicine at RWTH Aachen University in Germany has an application deadline of July 15th. The language of instruction for the program is English. There is no specific information provided regarding language requirements or GPA requirements in the data sources provided.\""
            ],
            "application/vnd.google.colaboratory.intrinsic+json": {
              "type": "string"
            }
          },
          "metadata": {},
          "execution_count": 15
        }
      ]
    },
    {
      "cell_type": "markdown",
      "source": [
        "2. Using Tavily with  Final Answer (Model 2)"
      ],
      "metadata": {
        "id": "RJpp7x0bukHq"
      }
    },
    {
      "cell_type": "code",
      "source": [
        "tavily.get_search_context(query=\"I want to apply for Search Master's degree in Applied Health Informatics & Digital Medicine at RWTH Aachen University in Germany, the deadline, Language requirements, the grade of language, GPA requirement?\", search_depth=\"advanced\",  max_tokens=1500)\n",
        "\n",
        "# You can also get a simple answer to a question including relevant sources all with a simple function call:\n",
        "\n",
        "\n"
      ],
      "metadata": {
        "id": "EDUu6w5qnyY6",
        "outputId": "b875ba45-ad28-47f2-fb69-7cad700a555a",
        "colab": {
          "base_uri": "https://localhost:8080/",
          "height": 122
        }
      },
      "execution_count": 11,
      "outputs": [
        {
          "output_type": "execute_result",
          "data": {
            "text/plain": [
              "'\"[\\\\\"{\\\\\\\\\\\\\"url\\\\\\\\\\\\\": \\\\\\\\\\\\\"https://www.rwth-aachen.de/cms/root/studium/vor-dem-studium/studiengaenge/liste-aktuelle-studiengaenge/studiengangbeschreibung/~bgiiib/applied-health-informatics-digital-med/\\\\\\\\\\\\\", \\\\\\\\\\\\\"content\\\\\\\\\\\\\": \\\\\\\\\\\\\"Applied Health Informatics, das hei\\\\\\\\\\\\\\\\u00dft medizinische Daten zu erheben, auszuwerten und f\\\\\\\\\\\\\\\\u00fcr die Gesundheitsversorgung nutzbar zu machen. Versorgung und Forschung werden dabei verkn\\\\\\\\\\\\\\\\u00fcpft und digitalisierte Abl\\\\\\\\\\\\\\\\u00e4ufe im Gesundheitswesen effizient gestaltet. Dies hilft Krankheiten besser zu verstehen, therapeutische Ans\\\\\\\\\\\\\\\\u00e4tze personalisierter ...\\\\\\\\\\\\\"}\\\\\", \\\\\"{\\\\\\\\\\\\\"url\\\\\\\\\\\\\": \\\\\\\\\\\\\"https://www2.daad.de/deutschland/studienangebote/online/en/detail/9198/\\\\\\\\\\\\\", \\\\\\\\\\\\\"content\\\\\\\\\\\\\": \\\\\\\\\\\\\"Degree Master of Science in Applied Health Informatics and Digital Medicine Teaching language. English; Languages. All courses are held in English. Full-time / part-time. part-time (study alongside work) Mode of study Hybrid Programme duration 4 semesters Beginning Winter semester Application deadline. 15 July. Tuition fees per semester in EUR ...\\\\\\\\\\\\\"}\\\\\", \\\\\"{\\\\\\\\\\\\\"url\\\\\\\\\\\\\": \\\\\\\\\\\\\"https://www.academy.rwth-aachen.de/en/news/news-detail/new-part-time-degree-program-m-sc-applied-health-informatics-and-digital-medicine\\\\\\\\\\\\\", \\\\\\\\\\\\\"content\\\\\\\\\\\\\": \\\\\\\\\\\\\"The combination of medical and informatics expertise is essential to meet the challenges of digital transformation in healthcare. Join our community of health informatics experts and shape the future of digital medicine! Duration: 4 semesters | Language: English | Costs: 6.650\\\\\\\\\\\\\\\\u20ac per semester | Application start: December 2023\\\\\\\\\\\\\"}\\\\\", \\\\\"{\\\\\\\\\\\\\"url\\\\\\\\\\\\\": \\\\\\\\\\\\\"https://master-applied-health-informatics.com/\\\\\\\\\\\\\", \\\\\\\\\\\\\"content\\\\\\\\\\\\\": \\\\\\\\\\\\\"Our M.Sc. Applied Health Informatics and Digital Medicine degree program offers a wide range of benefits and allows you to apply your skills and knowledge in medical informatics. Acquire and deepen important competencies for your professional development and open up new career opportunities for yourself. Make valuable contacts in a strong network.\\\\\\\\\\\\\"}\\\\\", \\\\\"{\\\\\\\\\\\\\"url\\\\\\\\\\\\\": \\\\\\\\\\\\\"https://master-applied-health-informatics.com/faq/\\\\\\\\\\\\\", \\\\\\\\\\\\\"content\\\\\\\\\\\\\": \\\\\\\\\\\\\"FAQ Frequently Asked Questions You can apply for a study place in M.Sc. Applied Health Informatics and Digital Medicine in RWTHonline within the application period (Dezember 01 until July 15). Please note that the application for a study place and the enrollment at the university are two different procedures. Once we receive your.\\\\\\\\\\\\\"}\\\\\"]\"'"
            ],
            "application/vnd.google.colaboratory.intrinsic+json": {
              "type": "string"
            }
          },
          "metadata": {},
          "execution_count": 11
        }
      ]
    },
    {
      "cell_type": "markdown",
      "source": [
        "2. Using Tavily with  Final (Model 3)"
      ],
      "metadata": {
        "id": "W4ec1UIrux8-"
      }
    },
    {
      "cell_type": "code",
      "source": [
        "tavily.qna_search(query=\"I want to apply for Search Master's degree in Applied Health Informatics & Digital Medicine at RWTH Aachen University in Germany, the deadline, Language requirements, the grade of language, GPA requirement?\", search_depth=\"advanced\")\n"
      ],
      "metadata": {
        "id": "GYiFxzi6ojd3",
        "outputId": "b98d14c9-722d-43b1-a5b6-98bdd60ab1b2",
        "colab": {
          "base_uri": "https://localhost:8080/",
          "height": 70
        }
      },
      "execution_count": 14,
      "outputs": [
        {
          "output_type": "execute_result",
          "data": {
            "text/plain": [
              "\"The application deadline for the Master's degree in Applied Health Informatics & Digital Medicine at RWTH Aachen University in Germany is July 15th. The language of instruction for the program is English, and all courses are conducted in English. The tuition fees are 6,650€ per semester. There is no specific information provided regarding the grade of language or GPA requirements for this program.\""
            ],
            "application/vnd.google.colaboratory.intrinsic+json": {
              "type": "string"
            }
          },
          "metadata": {},
          "execution_count": 14
        }
      ]
    },
    {
      "cell_type": "markdown",
      "source": [
        "3. Using from general Search and ScrapScrapping"
      ],
      "metadata": {
        "id": "FojGWW5BvEq-"
      }
    },
    {
      "cell_type": "code",
      "source": [
        "# choose location (try to change to your own city!)\n",
        "\n",
        "city = \"San Francisco\"\n",
        "\n",
        "query = f\"\"\"\n",
        "    what is the current weather in {city}?\n",
        "    Should I travel there today?\n",
        "    \"weather.com\"\n",
        "\"\"\""
      ],
      "metadata": {
        "id": "65RA1vt7sv31"
      },
      "execution_count": null,
      "outputs": []
    },
    {
      "cell_type": "code",
      "source": [
        "import requests\n",
        "from bs4 import BeautifulSoup\n",
        "from duckduckgo_search import DDGS\n",
        "import re\n",
        "\n",
        "ddg = DDGS()\n",
        "\n",
        "def search(query, max_results=6):\n",
        "    try:\n",
        "        results = ddg.text(query, max_results=max_results)\n",
        "        return [i[\"href\"] for i in results]\n",
        "    except Exception as e:\n",
        "        print(f\"returning previous results due to exception reaching ddg.\")\n",
        "        results = [ # cover case where DDG rate limits due to high deeplearning.ai volume\n",
        "            \"https://weather.com/weather/today/l/USCA0987:1:US\",\n",
        "            \"https://weather.com/weather/hourbyhour/l/54f9d8baac32496f6b5497b4bf7a277c3e2e6cc5625de69680e6169e7e38e9a8\",\n",
        "        ]\n",
        "        return results\n",
        "\n",
        "\n",
        "for i in search(query):\n",
        "    print(i)"
      ],
      "metadata": {
        "id": "kUXaxfj8r_O_"
      },
      "execution_count": null,
      "outputs": []
    },
    {
      "cell_type": "code",
      "source": [
        "def scrape_weather_info(url):\n",
        "    \"\"\"Scrape content from the given URL\"\"\"\n",
        "    if not url:\n",
        "        return \"Weather information could not be found.\"\n",
        "\n",
        "    # fetch data\n",
        "    headers = {'User-Agent': 'Mozilla/5.0'}\n",
        "    response = requests.get(url, headers=headers)\n",
        "    if response.status_code != 200:\n",
        "        return \"Failed to retrieve the webpage.\"\n",
        "\n",
        "    # parse result\n",
        "    soup = BeautifulSoup(response.text, 'html.parser')\n",
        "    return soup"
      ],
      "metadata": {
        "id": "XmlaBWH2s5qW"
      },
      "execution_count": null,
      "outputs": []
    },
    {
      "cell_type": "code",
      "source": [
        "# use DuckDuckGo to find websites and take the first result\n",
        "url = search(query)[0]\n",
        "\n",
        "# scrape first wesbsite\n",
        "soup = scrape_weather_info(url)\n",
        "\n",
        "print(f\"Website: {url}\\n\\n\")\n",
        "print(str(soup.body)[:50000]) # limit long outputs"
      ],
      "metadata": {
        "id": "GrZe0Xess_ht"
      },
      "execution_count": null,
      "outputs": []
    },
    {
      "cell_type": "code",
      "source": [
        "# extract text\n",
        "weather_data = []\n",
        "for tag in soup.find_all(['h1', 'h2', 'h3', 'p']):\n",
        "    text = tag.get_text(\" \", strip=True)\n",
        "    weather_data.append(text)\n",
        "\n",
        "# combine all elements into a single string\n",
        "weather_data = \"\\n\".join(weather_data)\n",
        "\n",
        "# remove all spaces from the combined text\n",
        "weather_data = re.sub(r'\\s+', ' ', weather_data)\n",
        "\n",
        "print(f\"Website: {url}\\n\\n\")\n",
        "print(weather_data)"
      ],
      "metadata": {
        "id": "fYUN1NmotAQF"
      },
      "execution_count": null,
      "outputs": []
    }
  ]
}