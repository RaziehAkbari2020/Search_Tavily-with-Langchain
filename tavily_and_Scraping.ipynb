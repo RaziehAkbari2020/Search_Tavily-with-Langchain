{
  "nbformat": 4,
  "nbformat_minor": 0,
  "metadata": {
    "colab": {
      "provenance": [],
      "gpuType": "T4",
      "authorship_tag": "ABX9TyPNAv3cs0rBEdSxddIQ53TE",
      "include_colab_link": true
    },
    "kernelspec": {
      "name": "python3",
      "display_name": "Python 3"
    },
    "language_info": {
      "name": "python"
    },
    "accelerator": "GPU"
  },
  "cells": [
    {
      "cell_type": "markdown",
      "metadata": {
        "id": "view-in-github",
        "colab_type": "text"
      },
      "source": [
        "<a href=\"https://colab.research.google.com/github/RaziehAkbari2020/Search_Tavily-with-Langchain/blob/main/tavily_and_Scraping.ipynb\" target=\"_parent\"><img src=\"https://colab.research.google.com/assets/colab-badge.svg\" alt=\"Open In Colab\"/></a>"
      ]
    },
    {
      "cell_type": "code",
      "source": [
        "!pip install tavily-python\n"
      ],
      "metadata": {
        "colab": {
          "base_uri": "https://localhost:8080/"
        },
        "id": "Q5DoxIdE6lXC",
        "outputId": "916efd84-3ceb-4d42-b8d0-f4e6d67a9a9c"
      },
      "execution_count": 1,
      "outputs": [
        {
          "output_type": "stream",
          "name": "stdout",
          "text": [
            "Collecting tavily-python\n",
            "  Downloading tavily_python-0.3.3-py3-none-any.whl (5.4 kB)\n",
            "Requirement already satisfied: requests in /usr/local/lib/python3.10/dist-packages (from tavily-python) (2.31.0)\n",
            "Collecting tiktoken<1,>=0.5.2 (from tavily-python)\n",
            "  Downloading tiktoken-0.7.0-cp310-cp310-manylinux_2_17_x86_64.manylinux2014_x86_64.whl (1.1 MB)\n",
            "\u001b[2K     \u001b[90m━━━━━━━━━━━━━━━━━━━━━━━━━━━━━━━━━━━━━━━━\u001b[0m \u001b[32m1.1/1.1 MB\u001b[0m \u001b[31m6.9 MB/s\u001b[0m eta \u001b[36m0:00:00\u001b[0m\n",
            "\u001b[?25hRequirement already satisfied: regex>=2022.1.18 in /usr/local/lib/python3.10/dist-packages (from tiktoken<1,>=0.5.2->tavily-python) (2024.5.15)\n",
            "Requirement already satisfied: charset-normalizer<4,>=2 in /usr/local/lib/python3.10/dist-packages (from requests->tavily-python) (3.3.2)\n",
            "Requirement already satisfied: idna<4,>=2.5 in /usr/local/lib/python3.10/dist-packages (from requests->tavily-python) (3.7)\n",
            "Requirement already satisfied: urllib3<3,>=1.21.1 in /usr/local/lib/python3.10/dist-packages (from requests->tavily-python) (2.0.7)\n",
            "Requirement already satisfied: certifi>=2017.4.17 in /usr/local/lib/python3.10/dist-packages (from requests->tavily-python) (2024.6.2)\n",
            "Installing collected packages: tiktoken, tavily-python\n",
            "Successfully installed tavily-python-0.3.3 tiktoken-0.7.0\n"
          ]
        }
      ]
    },
    {
      "cell_type": "code",
      "source": [
        "# Initialize Tavily client\n",
        "from tavily import TavilyClient\n",
        "\n",
        "tavily = TavilyClient(api_key=\"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\")\n",
        "\n",
        "# Perform advanced search\n",
        "response = tavily.search(query=\"I want to apply for Search Master's degree in Applied Health Informatics & Digital Medicine at RWTH Aachen University in Germany, the deadline, Language requirements, the grade of language, GPA requirement?\", search_depth=\"advanced\")\n",
        "\n",
        "# Extracting URL and content from the response\n",
        "context = [{\"url\": obj[\"url\"], \"content\": obj[\"content\"]} for obj in response[\"results\"]]\n",
        "print(context)"
      ],
      "metadata": {
        "colab": {
          "base_uri": "https://localhost:8080/"
        },
        "id": "2ztO2Pzf6rSL",
        "outputId": "60a07b18-31a9-48f0-f640-9522c286e93d"
      },
      "execution_count": 9,
      "outputs": [
        {
          "output_type": "stream",
          "name": "stdout",
          "text": [
            "[{'url': 'https://www.academy.rwth-aachen.de/en/news/news-detail/new-part-time-degree-program-m-sc-applied-health-informatics-and-digital-medicine', 'content': 'The combination of medical and informatics expertise is essential to meet the challenges of digital transformation in healthcare. Join our community of health informatics experts and shape the future of digital medicine! Duration: 4 semesters | Language: English | Costs: 6.650€ per semester | Application start: December 2023'}, {'url': 'https://www.rwth-aachen.de/cms/root/studium/vor-dem-studium/studiengaenge/liste-aktuelle-studiengaenge/studiengangbeschreibung/~bgiiib/applied-health-informatics-digital-med/', 'content': 'Applied Health Informatics, das heißt medizinische Daten zu erheben, auszuwerten und für die Gesundheitsversorgung nutzbar zu machen. Versorgung und Forschung werden dabei verknüpft und digitalisierte Abläufe im Gesundheitswesen effizient gestaltet. Dies hilft Krankheiten besser zu verstehen, therapeutische Ansätze personalisierter ...'}, {'url': 'https://www2.daad.de/deutschland/studienangebote/online/en/detail/9198/', 'content': 'Degree Master of Science in Applied Health Informatics and Digital Medicine Teaching language. English; Languages. All courses are held in English. Full-time / part-time. part-time (study alongside work) Mode of study Hybrid Programme duration 4 semesters Beginning Winter semester Application deadline. 15 July. Tuition fees per semester in EUR ...'}, {'url': 'https://master-applied-health-informatics.com/', 'content': 'Our M.Sc. Applied Health Informatics and Digital Medicine degree program offers a wide range of benefits and allows you to apply your skills and knowledge in medical informatics. Acquire and deepen important competencies for your professional development and open up new career opportunities for yourself. Make valuable contacts in a strong network.'}, {'url': 'https://www.mygermanuniversity.com/master/applied-health-informatics-and-digital-medicine/3445', 'content': 'The Study Program 🎓 MSc Applied Health Informatics and Digital 🏛️ at RWTH Aachen University All info for international students (2024/2025) ... (4 installments à 6,650 €) plus the semester fee of RWTH Aachen University. How do you want to continue? Read the full profile Go to course ... Proof of English language skills (see language ...'}]\n"
          ]
        }
      ]
    },
    {
      "cell_type": "code",
      "source": [
        "!pip install requests beautifulsoup4\n"
      ],
      "metadata": {
        "colab": {
          "base_uri": "https://localhost:8080/"
        },
        "id": "_t9-P1McLBkQ",
        "outputId": "70ccb188-0b1d-4857-f79f-11e32ceeeac5"
      },
      "execution_count": 10,
      "outputs": [
        {
          "output_type": "stream",
          "name": "stdout",
          "text": [
            "Requirement already satisfied: requests in /usr/local/lib/python3.10/dist-packages (2.31.0)\n",
            "Requirement already satisfied: beautifulsoup4 in /usr/local/lib/python3.10/dist-packages (4.12.3)\n",
            "Requirement already satisfied: charset-normalizer<4,>=2 in /usr/local/lib/python3.10/dist-packages (from requests) (3.3.2)\n",
            "Requirement already satisfied: idna<4,>=2.5 in /usr/local/lib/python3.10/dist-packages (from requests) (3.7)\n",
            "Requirement already satisfied: urllib3<3,>=1.21.1 in /usr/local/lib/python3.10/dist-packages (from requests) (2.0.7)\n",
            "Requirement already satisfied: certifi>=2017.4.17 in /usr/local/lib/python3.10/dist-packages (from requests) (2024.6.2)\n",
            "Requirement already satisfied: soupsieve>1.2 in /usr/local/lib/python3.10/dist-packages (from beautifulsoup4) (2.5)\n"
          ]
        }
      ]
    },
    {
      "cell_type": "code",
      "source": [
        "import requests\n",
        "from bs4 import BeautifulSoup"
      ],
      "metadata": {
        "id": "zEI7BB2WLGn7"
      },
      "execution_count": 11,
      "outputs": []
    },
    {
      "cell_type": "code",
      "source": [
        "def extract_content_from_url(url):\n",
        "    try:\n",
        "        response = requests.get(url)\n",
        "        response.raise_for_status()  # Raise HTTPError for bad responses\n",
        "        soup = BeautifulSoup(response.content, 'html.parser')\n",
        "        return soup.get_text(separator=' ', strip=True)  # Extract text content\n",
        "    except requests.exceptions.RequestException as e:\n",
        "        print(f\"Error fetching {url}: {e}\")\n",
        "        return None\n",
        "\n",
        "# Extract and print content for each URL\n",
        "for item in context:\n",
        "    url = item[\"url\"]\n",
        "    content = extract_content_from_url(url)\n",
        "    if content:\n",
        "        print(f\"Content from {url}:\\n{content[:1000]}...\\n\")  # Print first 1000 characters for brevity\n",
        "    else:\n",
        "        print(f\"Failed to extract content from {url}\")"
      ],
      "metadata": {
        "colab": {
          "base_uri": "https://localhost:8080/"
        },
        "id": "2T9fBaGPLfnL",
        "outputId": "2ec6e004-da58-4c52-9e3f-d5b3a0ecc629"
      },
      "execution_count": 12,
      "outputs": [
        {
          "output_type": "stream",
          "name": "stdout",
          "text": [
            "Content from https://www.academy.rwth-aachen.de/en/news/news-detail/new-part-time-degree-program-m-sc-applied-health-informatics-and-digital-medicine:\n",
            "New part-time degree program: M.Sc. Applied Health Informatics and Digital Medicine - RWTH International Academy deutsch english Keywords Search Skip navigation Home Programs Master's Degree Programs Short Courses Qualification Programs Certificate Courses & Trainings Talent Programs Companies Further Education Inhouse Programs Cooperations Services Digital Education Center Room Rental Event Management Scholarships Career Service Quality Assurance Academy Offices Latin America Office China Office India Office About Us RWTH International Academy RWTH Business School RWTH Aachen University Discover Aachen Career Team Contact News Event Calendar Academy News Get the latest news and updates on our innovative programs and services. Read more RWTH International Academy News New part-time degree program: M.Sc. Applied Health Informatics and Digital Medicine 21.09.2023 New part-time degree program: M.Sc. Applied Health Informatics and Digital Medicine Exciting news! We are pleased to announce ...\n",
            "\n",
            "Error fetching https://www.rwth-aachen.de/cms/root/studium/vor-dem-studium/studiengaenge/liste-aktuelle-studiengaenge/studiengangbeschreibung/~bgiiib/applied-health-informatics-digital-med/: 404 Client Error: Not Found for url: https://www.rwth-aachen.de/cms/root/studium/vor-dem-studium/studiengaenge/liste-aktuelle-studiengaenge/studiengangbeschreibung/~bgiiib/applied-health-informatics-digital-med/\n",
            "Failed to extract content from https://www.rwth-aachen.de/cms/root/studium/vor-dem-studium/studiengaenge/liste-aktuelle-studiengaenge/studiengangbeschreibung/~bgiiib/applied-health-informatics-digital-med/\n",
            "Content from https://www2.daad.de/deutschland/studienangebote/online/en/detail/9198/:\n",
            "Skip to main content Services More information on daad.de More info CHE University Ranking DAAD database on admission requirements Applying Help and Advice 0 0 International Online Programmes in Germany 2023/2024 © pagination Home Back Previous Next Master of Science in Applied Health Informatics and Digital Medicine MSc in Applied Health Informatics & Digital Medicine RWTH Aachen University • Aachen Overview Course details Online learning Costs / Funding Requirements / Registration Services Degree Master of Science in Applied Health Informatics and Digital Medicine Teaching language English Languages All courses are held in English. Full-time / part-time part-time (study alongside work) Mode of study Hybrid Programme duration 4 semesters Beginning Winter semester Application deadline 15 July Tuition fees per semester in EUR 6,650 EUR Additional information on tuition fees The complete  tuition fees for all four semesters amounts to 26,600 EUR . Early booking discounts apply. Combined ...\n",
            "\n",
            "Content from https://master-applied-health-informatics.com/:\n",
            "Home - Master of Applied Health Informatics (M.Sc.) Skip to content Home Content Career Prospects Program Structure Application Fees Scholarships FAQ Apply now! DE EN Home Content Career Prospects Program Structure Application Fees Scholarships FAQ Apply now! DE EN Home Content Career Prospects Program Structure Application Fees Scholarships FAQ Apply now! DE EN Loading... Apply now! Application Deadline Extended: August 31st! Home Corporate Marketing 2024-06-03T09:57:23+02:00 Master of Science (M. Sc.) in Applied Health Informatics and Digital Medicine Shape the future of digital medicine! The part-time degree program Applied Health Informatics and Digital Medicine aims to train experts in the field of medical informatics. Learn to acquire and evaluate medical data and make it usable for healthcare. Shape the digitalized processes in healthcare and open up a wide range of career opportunities in an interdisciplinary work environment. Download information brochure For privacy reasons Y...\n",
            "\n",
            "Content from https://www.mygermanuniversity.com/master/applied-health-informatics-and-digital-medicine/3445:\n",
            "MyGU Sorry! We couldn’t find that page! MyGermanUniversity.com is Germany's largest database for English-language Bachelor’s and Master’s programs (refers to degree programs with at least 50% English-taught course modules from German universities). Are you looking for a List of Universities in Germany for International Students? Do you search for top universities and information on admission requirements, language certificates (TOEFL/IELTS) and application deadlines? Then MyGermanUniversity is the right place for you. Legal Privacy Policy Terms of Use Disclaimer Imprint - Legal notice Company About Us Media Marketing services for German Universities Copyright © MyGU GmbH. 2019-2024 Made with ❤️ in Germany...\n",
            "\n"
          ]
        }
      ]
    }
  ]
}