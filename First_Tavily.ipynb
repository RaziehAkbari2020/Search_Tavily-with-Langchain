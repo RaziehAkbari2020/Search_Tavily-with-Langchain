{
  "nbformat": 4,
  "nbformat_minor": 0,
  "metadata": {
    "colab": {
      "provenance": [],
      "authorship_tag": "ABX9TyN9pLoEU6LrybUGwjbSPZ3F",
      "include_colab_link": true
    },
    "kernelspec": {
      "name": "python3",
      "display_name": "Python 3"
    },
    "language_info": {
      "name": "python"
    }
  },
  "cells": [
    {
      "cell_type": "markdown",
      "metadata": {
        "id": "view-in-github",
        "colab_type": "text"
      },
      "source": [
        "<a href=\"https://colab.research.google.com/github/RaziehAkbari2020/Search_Tavily-with-Langchain/blob/main/First_Tavily.ipynb\" target=\"_parent\"><img src=\"https://colab.research.google.com/assets/colab-badge.svg\" alt=\"Open In Colab\"/></a>"
      ]
    },
    {
      "cell_type": "code",
      "execution_count": 1,
      "metadata": {
        "colab": {
          "base_uri": "https://localhost:8080/"
        },
        "id": "iBwpxTZZNac4",
        "outputId": "83b59cc5-79a3-466a-ee75-22ecf6f5f359"
      },
      "outputs": [
        {
          "output_type": "stream",
          "name": "stdout",
          "text": [
            "Collecting tavily-python\n",
            "  Downloading tavily_python-0.3.3-py3-none-any.whl (5.4 kB)\n",
            "Requirement already satisfied: requests in /usr/local/lib/python3.10/dist-packages (from tavily-python) (2.31.0)\n",
            "Collecting tiktoken<1,>=0.5.2 (from tavily-python)\n",
            "  Downloading tiktoken-0.7.0-cp310-cp310-manylinux_2_17_x86_64.manylinux2014_x86_64.whl (1.1 MB)\n",
            "\u001b[2K     \u001b[90m━━━━━━━━━━━━━━━━━━━━━━━━━━━━━━━━━━━━━━━━\u001b[0m \u001b[32m1.1/1.1 MB\u001b[0m \u001b[31m4.5 MB/s\u001b[0m eta \u001b[36m0:00:00\u001b[0m\n",
            "\u001b[?25hRequirement already satisfied: regex>=2022.1.18 in /usr/local/lib/python3.10/dist-packages (from tiktoken<1,>=0.5.2->tavily-python) (2024.5.15)\n",
            "Requirement already satisfied: charset-normalizer<4,>=2 in /usr/local/lib/python3.10/dist-packages (from requests->tavily-python) (3.3.2)\n",
            "Requirement already satisfied: idna<4,>=2.5 in /usr/local/lib/python3.10/dist-packages (from requests->tavily-python) (3.7)\n",
            "Requirement already satisfied: urllib3<3,>=1.21.1 in /usr/local/lib/python3.10/dist-packages (from requests->tavily-python) (2.0.7)\n",
            "Requirement already satisfied: certifi>=2017.4.17 in /usr/local/lib/python3.10/dist-packages (from requests->tavily-python) (2024.6.2)\n",
            "Installing collected packages: tiktoken, tavily-python\n",
            "Successfully installed tavily-python-0.3.3 tiktoken-0.7.0\n"
          ]
        }
      ],
      "source": [
        "# install tavily\n",
        "!pip install tavily-python"
      ]
    },
    {
      "cell_type": "code",
      "source": [
        "# import and connect\n",
        "from tavily import TavilyClient\n",
        "client = TavilyClient(api_key=\"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\")"
      ],
      "metadata": {
        "id": "kJ6jAjHSNqkc"
      },
      "execution_count": 3,
      "outputs": []
    },
    {
      "cell_type": "code",
      "source": [
        "# simple query using tavily's advanced search\n",
        "client.search(\"I want to apply for Search Master's degree in Systems Engineering at  Albstadt-Sigmaringen University in Germany, I want to know excactly what is the deadline?\", search_depth=\"advanced\")"
      ],
      "metadata": {
        "colab": {
          "base_uri": "https://localhost:8080/"
        },
        "id": "VszIgpqGNzDd",
        "outputId": "0f41799a-f4c6-49a2-828e-a2a9c551b2e1"
      },
      "execution_count": 5,
      "outputs": [
        {
          "output_type": "execute_result",
          "data": {
            "text/plain": [
              "{'query': \"I want to apply for Search Master's degree in Systems Engineering at  Albstadt-Sigmaringen University in Germany, I want to know excactly what is the deadline?\",\n",
              " 'follow_up_questions': None,\n",
              " 'answer': None,\n",
              " 'images': None,\n",
              " 'results': [{'title': 'Studium Systems Engineering (Master) - Hochschule Albstadt-Sigmaringen',\n",
              "   'url': 'https://www.hs-albsig.de/studienangebot/masterstudiengaenge/systems-engineering/',\n",
              "   'content': 'Masterstudiengang Systems Engineering an der Hochschule Albstadt-Sigmaringen. Der Studiengang führt Basis- und Spezialwissen aus der klassischen Ingeniersdispziplin zusammen. Damit entwickelt, konstruiert und fertigt der Systems-Engineer komplexe intelligente Technische Systeme von höchster Perfektion',\n",
              "   'score': 0.98583,\n",
              "   'raw_content': None},\n",
              "  {'title': 'Information in English - Albstadt-Sigmaringen University - HS-AlbSig',\n",
              "   'url': 'https://www.hs-albsig.de/hochschule/organisation/international-office/information-in-english/',\n",
              "   'content': 'Hochschulinformationstag 2024; Studycheck Award 2024; ... - M.Sc. Systems Engineering (Computing, Albstadt campus) - M.Sc. Textile and Clothing Management (Engineering, Albstadt campus) ... Albstadt-Sigmaringen University offers 8 Master degree programmes in 4 faculties: Engineering / Computing / Life Science / Business Administration and ...',\n",
              "   'score': 0.98401,\n",
              "   'raw_content': None},\n",
              "  {'title': 'Systems Engineering (MS) | Arizona Online',\n",
              "   'url': 'https://online.arizona.edu/programs/graduate/online-master-science-systems-engineering-ms-0',\n",
              "   'content': 'SIE 558: Model-based Systems Engineering. This course introduces model-based systems engineering (MBSE), the formalized application of modeling to support system requirements, design, analysis, verification, and validation activities beginning in the conceptual design phase and continuing throughout development and later life cycle phases.',\n",
              "   'score': 0.97889,\n",
              "   'raw_content': None},\n",
              "  {'title': 'Study \"Data Science\" in Germany - Albstadt-Sigmaringen University ...',\n",
              "   'url': 'https://www.daad.de/en/studying-in-germany/universities/all-degree-programmes/detail/albstadt-sigmaringen-university-university-of-engineering-and-economics-data-science-w49295/?hec-id=w49295',\n",
              "   'content': 'Master of Science. Master Degree. 6 semesters. Standard period of study (amount) Albstadt. ... (2023/2024) Enrollment deadline for Germans and foreign students. Expired (Universitywide deadline) ... Albstadt-Sigmaringen University - University of Engineering and Economics Applied Biology - Food and Pharma.',\n",
              "   'score': 0.97363,\n",
              "   'raw_content': None},\n",
              "  {'title': 'Albstadt-Sigmaringen: 1 Degree Programs in English',\n",
              "   'url': 'https://www.mygermanuniversity.com/universities/Albstadt-Sigmaringen-University',\n",
              "   'content': 'The University of Albstadt-Sigmaringen offers a wide range of academic programmes in engineering, business, computer science and life sciences. The university is renowned for its practical approach to education, with a strong emphasis on hands-on learning and close collaboration with industry partners. This focus ensures that students acquire ...',\n",
              "   'score': 0.96965,\n",
              "   'raw_content': None}],\n",
              " 'response_time': 1.83}"
            ]
          },
          "metadata": {},
          "execution_count": 5
        }
      ]
    }
  ]
}