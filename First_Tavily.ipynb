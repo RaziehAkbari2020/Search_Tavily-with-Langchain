{
  "nbformat": 4,
  "nbformat_minor": 0,
  "metadata": {
    "colab": {
      "provenance": [],
      "authorship_tag": "ABX9TyOGVAwy3OKRV9DXfSDBQVit",
      "include_colab_link": true
    },
    "kernelspec": {
      "name": "python3",
      "display_name": "Python 3"
    },
    "language_info": {
      "name": "python"
    }
  },
  "cells": [
    {
      "cell_type": "markdown",
      "metadata": {
        "id": "view-in-github",
        "colab_type": "text"
      },
      "source": [
        "<a href=\"https://colab.research.google.com/github/RaziehAkbari2020/Search_Tavily-with-Langchain/blob/main/First_Tavily.ipynb\" target=\"_parent\"><img src=\"https://colab.research.google.com/assets/colab-badge.svg\" alt=\"Open In Colab\"/></a>"
      ]
    },
    {
      "cell_type": "code",
      "execution_count": 1,
      "metadata": {
        "colab": {
          "base_uri": "https://localhost:8080/"
        },
        "id": "iBwpxTZZNac4",
        "outputId": "01d65769-0d4c-4785-eb68-d6d7fcedd751"
      },
      "outputs": [
        {
          "output_type": "stream",
          "name": "stdout",
          "text": [
            "Collecting tavily-python\n",
            "  Downloading tavily_python-0.3.3-py3-none-any.whl (5.4 kB)\n",
            "Requirement already satisfied: requests in /usr/local/lib/python3.10/dist-packages (from tavily-python) (2.31.0)\n",
            "Collecting tiktoken<1,>=0.5.2 (from tavily-python)\n",
            "  Downloading tiktoken-0.7.0-cp310-cp310-manylinux_2_17_x86_64.manylinux2014_x86_64.whl (1.1 MB)\n",
            "\u001b[2K     \u001b[90m━━━━━━━━━━━━━━━━━━━━━━━━━━━━━━━━━━━━━━━━\u001b[0m \u001b[32m1.1/1.1 MB\u001b[0m \u001b[31m6.0 MB/s\u001b[0m eta \u001b[36m0:00:00\u001b[0m\n",
            "\u001b[?25hRequirement already satisfied: regex>=2022.1.18 in /usr/local/lib/python3.10/dist-packages (from tiktoken<1,>=0.5.2->tavily-python) (2024.5.15)\n",
            "Requirement already satisfied: charset-normalizer<4,>=2 in /usr/local/lib/python3.10/dist-packages (from requests->tavily-python) (3.3.2)\n",
            "Requirement already satisfied: idna<4,>=2.5 in /usr/local/lib/python3.10/dist-packages (from requests->tavily-python) (3.7)\n",
            "Requirement already satisfied: urllib3<3,>=1.21.1 in /usr/local/lib/python3.10/dist-packages (from requests->tavily-python) (2.0.7)\n",
            "Requirement already satisfied: certifi>=2017.4.17 in /usr/local/lib/python3.10/dist-packages (from requests->tavily-python) (2024.6.2)\n",
            "Installing collected packages: tiktoken, tavily-python\n",
            "Successfully installed tavily-python-0.3.3 tiktoken-0.7.0\n"
          ]
        }
      ],
      "source": [
        "# install tavily\n",
        "!pip install tavily-python"
      ]
    },
    {
      "cell_type": "code",
      "source": [
        "# import and connect\n",
        "from tavily import TavilyClient\n",
        "client = TavilyClient(api_key=\"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\")"
      ],
      "metadata": {
        "id": "kJ6jAjHSNqkc"
      },
      "execution_count": 6,
      "outputs": []
    },
    {
      "cell_type": "code",
      "source": [
        "# simple query using tavily's advanced search\n",
        "client.search(\"I want to apply for Search Master's degree in Applied Health Informatics & Digital Medicine at  RWTH Aachen University in Germany, the deadline, Language requirements, the grade of language, GPA requirement?\",search_depth=\"advanced\")\n",
        "\n",
        "###client.search(\"I want to apply for Search Master's degree in Systems Engineering at  Albstadt-Sigmaringen University in Germany, I want to know excactly what is the deadline?\", search_depth=\"advanced\")\n"
      ],
      "metadata": {
        "colab": {
          "base_uri": "https://localhost:8080/"
        },
        "id": "VszIgpqGNzDd",
        "outputId": "8e38a357-e150-4957-cac1-b17cc22497be"
      },
      "execution_count": 14,
      "outputs": [
        {
          "output_type": "execute_result",
          "data": {
            "text/plain": [
              "{'query': \"I want to apply for Search Master's degree in Applied Health Informatics & Digital Medicine at  RWTH Aachen University in Germany, the deadline, Language requirements, the grade of language, GPA requirement?\",\n",
              " 'follow_up_questions': None,\n",
              " 'answer': None,\n",
              " 'images': None,\n",
              " 'results': [{'title': 'Home - Master of Applied Health Informatics (M.Sc.)',\n",
              "   'url': 'https://master-applied-health-informatics.com/',\n",
              "   'content': 'Our M.Sc. Applied Health Informatics and Digital Medicine degree program offers a wide range of benefits and allows you to apply your skills and knowledge in medical informatics. Acquire and deepen important competencies for your professional development and open up new career opportunities for yourself. Make valuable contacts in a strong network.',\n",
              "   'score': 0.98817,\n",
              "   'raw_content': None},\n",
              "  {'title': 'New part-time degree program: M.Sc. Applied Health Informatics and ...',\n",
              "   'url': 'https://www.academy.rwth-aachen.de/en/news/news-detail/new-part-time-degree-program-m-sc-applied-health-informatics-and-digital-medicine',\n",
              "   'content': 'The combination of medical and informatics expertise is essential to meet the challenges of digital transformation in healthcare. Join our community of health informatics experts and shape the future of digital medicine! Duration: 4 semesters | Language: English | Costs: 6.650€ per semester | Application start: December 2023',\n",
              "   'score': 0.98247,\n",
              "   'raw_content': None},\n",
              "  {'title': 'Applied Health Informatics & Digital Medicine M.Sc. - RWTH AACHEN ...',\n",
              "   'url': 'https://www.rwth-aachen.de/cms/root/studium/vor-dem-studium/studiengaenge/liste-aktuelle-studiengaenge/studiengangbeschreibung/~bgiiib/applied-health-informatics-digital-med/',\n",
              "   'content': 'Applied Health Informatics, das heißt medizinische Daten zu erheben, auszuwerten und für die Gesundheitsversorgung nutzbar zu machen. Versorgung und Forschung werden dabei verknüpft und digitalisierte Abläufe im Gesundheitswesen effizient gestaltet. Dies hilft Krankheiten besser zu verstehen, therapeutische Ansätze personalisierter ...',\n",
              "   'score': 0.97807,\n",
              "   'raw_content': None},\n",
              "  {'title': 'Master of Science in Applied Health Informatics and Digital Medicine',\n",
              "   'url': 'https://www2.daad.de/deutschland/studienangebote/online/en/detail/9198/',\n",
              "   'content': 'Degree Master of Science in Applied Health Informatics and Digital Medicine Teaching language. English; Languages. All courses are held in English. Full-time / part-time. part-time (study alongside work) Mode of study Hybrid Programme duration 4 semesters Beginning Winter semester Application deadline. 15 July. Tuition fees per semester in EUR ...',\n",
              "   'score': 0.97396,\n",
              "   'raw_content': None},\n",
              "  {'title': 'FAQ - Master of Applied Health Informatics (M.Sc.)',\n",
              "   'url': 'https://master-applied-health-informatics.com/faq/',\n",
              "   'content': 'FAQ Frequently Asked Questions You can apply for a study place in M.Sc. Applied Health Informatics and Digital Medicine in RWTHonline within the application period (Dezember 01 until July 15). Please note that the application for a study place and the enrollment at the university are two different procedures. Once we receive your.',\n",
              "   'score': 0.9693,\n",
              "   'raw_content': None}],\n",
              " 'response_time': 3.1}"
            ]
          },
          "metadata": {},
          "execution_count": 14
        }
      ]
    },
    {
      "cell_type": "code",
      "source": [],
      "metadata": {
        "id": "KGUzAuqaduzo"
      },
      "execution_count": null,
      "outputs": []
    }
  ]
}